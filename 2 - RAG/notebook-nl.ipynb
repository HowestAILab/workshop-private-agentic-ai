{
 "cells": [
  {
   "cell_type": "markdown",
   "id": "43c8e051",
   "metadata": {},
   "source": [
    "# **Retrieval Augmented Generation**\n",
    "\n",
    "_Taalmodellen zijn heel krachtig, maar zijn qua kennis gelimiteerd tot hun trainingdata en kunnen halucineren. De antwoorden zijn niet gestaafd door een bronvermelding. Vragen over onze eigen documenten kan deze ook niet zomaar beantwoorden. Dit is waar Retrieval Augmented Generation (RAG) een oplossing biedt. Het is een techniek waarbij we onze eigen documenten kunnen bevragen met natuurlijke taal._"
   ]
  },
  {
   "cell_type": "markdown",
   "id": "6a1bbed3",
   "metadata": {},
   "source": [
    "<img src=\"../.github/rag.png\" alt=\"RAG\" width=\"600\"/>"
   ]
  },
  {
   "cell_type": "markdown",
   "id": "6b32984f",
   "metadata": {},
   "source": [
    "---"
   ]
  },
  {
   "cell_type": "markdown",
   "id": "103cebed",
   "metadata": {},
   "source": [
    "## **Vector database**\n",
    "\n",
    "Zoals verteld tijdens de theorie, hebben we een **vector database** nodig om onze documenten in op te slaan.\n",
    "\n",
    "\n",
    "Dit kan op verschillende manieren:\n",
    "\n",
    "| Opslagmethode     | Gebruik                   |\n",
    "|-------------------|---------------------------|\n",
    "| Cloud             | Productie                 |\n",
    "| Docker container  | Productie (eigen server)  |\n",
    "| Lokaal bestand    | Development               |\n",
    "| In-memory         | Development               |\n",
    "\n",
    "Wij gaan **Milvus** gebruiken, een open-source vector database.<br>\n",
    "Net zoals Ollama, kan je Milvus zowel via een CLI als via Python aanspreken.<br>\n",
    "Naast Milvus zijn er tal van andere opties beschikbaar zoals Chroma, Qdrant, Vespa, (Pinecone, Weaviate) ...\n"
   ]
  },
  {
   "cell_type": "markdown",
   "id": "82cbe9ea",
   "metadata": {},
   "source": [
    "### **1. Installeer de Milvus Python SDK**"
   ]
  },
  {
   "cell_type": "code",
   "execution_count": null,
   "id": "c82d63c9",
   "metadata": {},
   "outputs": [],
   "source": [
    "%pip install pymilvus[model] --quiet"
   ]
  },
  {
   "cell_type": "markdown",
   "id": "56c6d324",
   "metadata": {},
   "source": [
    "### **2. Importeer de benodigde libraries**"
   ]
  },
  {
   "cell_type": "code",
   "execution_count": 7,
   "id": "76b56bd2",
   "metadata": {},
   "outputs": [],
   "source": [
    "from pymilvus import MilvusClient"
   ]
  },
  {
   "cell_type": "markdown",
   "id": "2ace559d",
   "metadata": {},
   "source": [
    "### **3. Maak een Milvus client aan**\n",
    "\n",
    "Typisch zou dit er ongeveer zo uitzien:\n",
    "\n",
    "```py\n",
    "client = MilvusClient(uri=\"http://localhost:19530\", username=\"admin\", password=\"password\")\n",
    "```\n",
    "\n",
    "Wij hebben geen online database die ergens draait en toegankelijk is via een URL. <br>\n",
    "In plaats daarvan gaan we een **lokaal bestand** aanmaken dat we kunnen gebruiken als database.<br>\n",
    "Als het bestand niet bestaat, dan wordt het automatisch aangemaakt, handig!"
   ]
  },
  {
   "cell_type": "code",
   "execution_count": null,
   "id": "c5ed4edc",
   "metadata": {},
   "outputs": [],
   "source": [
    "client = MilvusClient(\"../milvus.db\")"
   ]
  },
  {
   "cell_type": "markdown",
   "id": "abefe972",
   "metadata": {},
   "source": [
    "Met het client object kunnen we nu d.m.v. Python code interageren met de Milvus database:\n",
    "- `client.create_user(...)`\n",
    "- `client.create_collection(...)`\n",
    "- `client.insert(...)`\n",
    "- `client.query(...)`\n",
    "- ..."
   ]
  },
  {
   "cell_type": "markdown",
   "id": "5a3ada22",
   "metadata": {},
   "source": [
    "### **4. Maak een nieuwe lege collectie aan**"
   ]
  },
  {
   "cell_type": "code",
   "execution_count": null,
   "id": "2ce0c8c1",
   "metadata": {},
   "outputs": [],
   "source": [
    "# Aanmaken van nieuwe collectie\n",
    "client.create_collection(\n",
    "  collection_name=\"artie\",\n",
    "  dimension=5\n",
    ")\n",
    "\n",
    "# Lijst alle collecties op ter controle\n",
    "client.list_collections()"
   ]
  },
  {
   "cell_type": "markdown",
   "id": "0a781416",
   "metadata": {},
   "source": [
    "---"
   ]
  },
  {
   "cell_type": "markdown",
   "id": "1e83f048",
   "metadata": {},
   "source": [
    "## **Documenten in database stoppen**\n",
    "\n",
    "Nu we onze vector database hebben aangemaakt, kunnen we beginnen met het toevoegen van documenten. <br>\n",
    "We gaan een aantal PDF's inlezen, omzetten naar embeddings en deze toevoegen aan de database."
   ]
  },
  {
   "cell_type": "markdown",
   "id": "6bb73419",
   "metadata": {},
   "source": [
    "### **1. Uitlezen van PDF**"
   ]
  },
  {
   "cell_type": "markdown",
   "id": "6fc455af",
   "metadata": {},
   "source": [
    "<img src=\"../.github/tekst-extractie.png\" alt=\"Tekst extractie\" width=\"400\"/>"
   ]
  },
  {
   "cell_type": "code",
   "execution_count": null,
   "id": "85177ffd",
   "metadata": {},
   "outputs": [],
   "source": [
    "%pip install pypdf --quiet"
   ]
  },
  {
   "cell_type": "code",
   "execution_count": null,
   "id": "54374fbd",
   "metadata": {},
   "outputs": [],
   "source": [
    "from pypdf import PdfReader\n",
    "\n",
    "def lees_pdf(path):\n",
    "    # Open de PDF\n",
    "    pdf = PdfReader(path)\n",
    "    text = \"\"\n",
    "    # Overloop elke pagina\n",
    "    for page in pdf.pages:\n",
    "        # Lees de paginatekst uit\n",
    "        page_text = page.extract_text()\n",
    "        # Voeg de paginatekst toe aan de totale tekst\n",
    "        text += page_text + \"\\n\"\n",
    "    return text"
   ]
  },
  {
   "cell_type": "code",
   "execution_count": null,
   "id": "b4ec28c6",
   "metadata": {},
   "outputs": [],
   "source": [
    "text = lees_pdf(\"data/artie.pdf\")\n",
    "\n",
    "print(text)"
   ]
  },
  {
   "cell_type": "markdown",
   "id": "ff8df0f5",
   "metadata": {},
   "source": [
    "### **2. Tekst omzetten naar vectoren (embedding)**"
   ]
  },
  {
   "cell_type": "markdown",
   "id": "bb82583e",
   "metadata": {},
   "source": [
    "<img src=\"../.github/tekst-embedding.png\" alt=\"Tekst embedding\" width=\"400\"/>"
   ]
  },
  {
   "cell_type": "code",
   "execution_count": 19,
   "id": "28d0cb38",
   "metadata": {},
   "outputs": [
    {
     "name": "stdout",
     "output_type": "stream",
     "text": [
      "De tekst van 175088 karakters is opgedeeld in 342 stukken van 512 karakters.\n"
     ]
    }
   ],
   "source": [
    "def verdeel_in_chunks(text):\n",
    "    # Kap de tekst in stukken van 512 karakters\n",
    "    return [text[i:i+512] for i in range(0, len(text), 512)]\n",
    "\n",
    "chunks = verdeel_in_chunks(text)\n",
    "\n",
    "print(f\"De tekst van {len(text)} karakters is opgedeeld in {len(chunks)} stukken van 512 karakters.\")"
   ]
  },
  {
   "cell_type": "code",
   "execution_count": 20,
   "id": "89e2ef31",
   "metadata": {},
   "outputs": [],
   "source": [
    "from pymilvus import model\n",
    "\n",
    "# Laadt een standaard embedder model\n",
    "embedder = model.DefaultEmbeddingFunction()"
   ]
  },
  {
   "cell_type": "code",
   "execution_count": null,
   "id": "9ed09b38",
   "metadata": {},
   "outputs": [],
   "source": [
    "# Omzetten van teksten naar vectoren\n",
    "vectors = embedder.encode_documents(chunks)\n",
    "\n",
    "print(len(vectors))\n",
    "\n",
    "# Een kijkje nemen naar de eerste vector\n",
    "print(vectors[0])"
   ]
  },
  {
   "cell_type": "markdown",
   "id": "dedd7d95",
   "metadata": {},
   "source": [
    "### **3. Vectoren in database stoppen**"
   ]
  },
  {
   "cell_type": "markdown",
   "id": "dc393b6c",
   "metadata": {},
   "source": [
    "<img src=\"../.github/vectors-in-database.png\" alt=\"Tekst embedding\" width=\"500\"/>"
   ]
  },
  {
   "cell_type": "code",
   "execution_count": null,
   "id": "40e6b22d",
   "metadata": {},
   "outputs": [],
   "source": [
    "from pymilvus import MilvusClient\n",
    "\n",
    "client = MilvusClient(\"../milvus.db\")\n",
    "\n",
    "client.insert(\n",
    "    collection_name=\"artie\",\n",
    "    data={\n",
    "        \"text\": \"Art-IE documentatie\",\n",
    "        \"vector\": vectors\n",
    "    }\n",
    ")"
   ]
  },
  {
   "cell_type": "markdown",
   "id": "7bd1ef0f",
   "metadata": {},
   "source": [
    "---"
   ]
  },
  {
   "cell_type": "markdown",
   "id": "87a4459f",
   "metadata": {},
   "source": [
    "## **Vector database bevragen**"
   ]
  }
 ],
 "metadata": {
  "kernelspec": {
   "display_name": ".venv",
   "language": "python",
   "name": "python3"
  },
  "language_info": {
   "codemirror_mode": {
    "name": "ipython",
    "version": 3
   },
   "file_extension": ".py",
   "mimetype": "text/x-python",
   "name": "python",
   "nbconvert_exporter": "python",
   "pygments_lexer": "ipython3",
   "version": "3.12.4"
  }
 },
 "nbformat": 4,
 "nbformat_minor": 5
}
