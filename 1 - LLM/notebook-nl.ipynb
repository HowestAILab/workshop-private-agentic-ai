{
 "cells": [
  {
   "cell_type": "markdown",
   "id": "ca9267be",
   "metadata": {},
   "source": [
    "# **Large Language Model**\n",
    "\n",
    "_LLM's worden vaak geassocieerd met OpenAI's ChatGPT, Google's Gemini enzovoort. Jouw data wordt gebruikt om hun modellen te trainen en beter te maken. Wegens commerciële redenen is er dus een groot gebrek aan privacy, maar wat als we onze sensitieve gegevens niet willen delen? Dan zijn open-source LLM's (of SLM's) iets voor jou!_"
   ]
  },
  {
   "cell_type": "markdown",
   "id": "fb664f1a",
   "metadata": {},
   "source": [
    "<img src=\"../.github/vraag-llm-antwoord.png\" alt=\"LLM\" width=\"500\"/>"
   ]
  },
  {
   "cell_type": "markdown",
   "id": "664fab60",
   "metadata": {},
   "source": [
    "---"
   ]
  },
  {
   "cell_type": "markdown",
   "id": "c7246c96",
   "metadata": {},
   "source": [
    "## **Ollama CLI**\n",
    "\n",
    "Ollama maakt het heel eenvoudig om lokaal taalmodellen te draaien. <br>\n",
    "We proberen het eerst eens met de CLI tool in de terminal en vervolgens eens met de Python SDK."
   ]
  },
  {
   "cell_type": "markdown",
   "id": "2e951b78",
   "metadata": {},
   "source": [
    "### **1. Download een taalmodel**\n",
    "We kiezen hier voor Gemma3, een model van Google met 12 miljard parameters.\n",
    "```sh\n",
    "ollama pull gemma3:12b-it-qat\n",
    "\n",
    "```\n",
    "\n",
    "### **2. Start een conversatie sessie**\n",
    "Dit zal het model in het geheugen van de GPU laden en klaar maken voor gebruik.\n",
    "```sh\n",
    "ollama run gemma3:12b-it-qat\n",
    "\n",
    "```\n",
    "\n",
    "### **3. Stel enkele vragen**\n",
    "Het model heeft enkel kennis over de data waarop het is getraind, in dit geval tot en met augustus 2024.\n",
    "```txt\n",
    "Wat is de hoofdstad van België?\n",
    "Wat kan je mij vertellen over Art-IE?\n",
    "```\n",
    "\n",
    "### **4. Sluit de sessie af**\n",
    "Dit zal het GPU geheugen opnieuw vrij te maken.\n",
    "```sh\n",
    "/bye\n",
    "\n",
    "```"
   ]
  },
  {
   "cell_type": "markdown",
   "id": "be2862f8",
   "metadata": {},
   "source": [
    "---"
   ]
  },
  {
   "cell_type": "markdown",
   "id": "1893ed92",
   "metadata": {},
   "source": [
    "## **Ollama Python SDK**"
   ]
  },
  {
   "cell_type": "markdown",
   "id": "bb9a994b",
   "metadata": {},
   "source": [
    "### **1. Installeer de Ollama Python SDK**"
   ]
  },
  {
   "cell_type": "code",
   "execution_count": 3,
   "id": "2259139c",
   "metadata": {},
   "outputs": [
    {
     "name": "stdout",
     "output_type": "stream",
     "text": [
      "Requirement already satisfied: ollama in c:\\repositories\\workshop-private-agentic-ai\\.venv\\lib\\site-packages (0.5.1)\n",
      "Requirement already satisfied: httpx>=0.27 in c:\\repositories\\workshop-private-agentic-ai\\.venv\\lib\\site-packages (from ollama) (0.28.1)\n",
      "Requirement already satisfied: pydantic>=2.9 in c:\\repositories\\workshop-private-agentic-ai\\.venv\\lib\\site-packages (from ollama) (2.11.7)\n",
      "Requirement already satisfied: anyio in c:\\repositories\\workshop-private-agentic-ai\\.venv\\lib\\site-packages (from httpx>=0.27->ollama) (4.9.0)\n",
      "Requirement already satisfied: certifi in c:\\repositories\\workshop-private-agentic-ai\\.venv\\lib\\site-packages (from httpx>=0.27->ollama) (2025.6.15)\n",
      "Requirement already satisfied: httpcore==1.* in c:\\repositories\\workshop-private-agentic-ai\\.venv\\lib\\site-packages (from httpx>=0.27->ollama) (1.0.9)\n",
      "Requirement already satisfied: idna in c:\\repositories\\workshop-private-agentic-ai\\.venv\\lib\\site-packages (from httpx>=0.27->ollama) (3.10)\n",
      "Requirement already satisfied: h11>=0.16 in c:\\repositories\\workshop-private-agentic-ai\\.venv\\lib\\site-packages (from httpcore==1.*->httpx>=0.27->ollama) (0.16.0)\n",
      "Requirement already satisfied: annotated-types>=0.6.0 in c:\\repositories\\workshop-private-agentic-ai\\.venv\\lib\\site-packages (from pydantic>=2.9->ollama) (0.7.0)\n",
      "Requirement already satisfied: pydantic-core==2.33.2 in c:\\repositories\\workshop-private-agentic-ai\\.venv\\lib\\site-packages (from pydantic>=2.9->ollama) (2.33.2)\n",
      "Requirement already satisfied: typing-extensions>=4.12.2 in c:\\repositories\\workshop-private-agentic-ai\\.venv\\lib\\site-packages (from pydantic>=2.9->ollama) (4.14.0)\n",
      "Requirement already satisfied: typing-inspection>=0.4.0 in c:\\repositories\\workshop-private-agentic-ai\\.venv\\lib\\site-packages (from pydantic>=2.9->ollama) (0.4.1)\n",
      "Requirement already satisfied: sniffio>=1.1 in c:\\repositories\\workshop-private-agentic-ai\\.venv\\lib\\site-packages (from anyio->httpx>=0.27->ollama) (1.3.1)\n",
      "Note: you may need to restart the kernel to use updated packages.\n"
     ]
    },
    {
     "name": "stderr",
     "output_type": "stream",
     "text": [
      "\n",
      "[notice] A new release of pip is available: 24.0 -> 25.1.1\n",
      "[notice] To update, run: python.exe -m pip install --upgrade pip\n"
     ]
    }
   ],
   "source": [
    "%pip install ollama"
   ]
  },
  {
   "cell_type": "markdown",
   "id": "0c9941df",
   "metadata": {},
   "source": [
    "### **2. Importeer de nodige libraries**"
   ]
  },
  {
   "cell_type": "code",
   "execution_count": null,
   "id": "6f8bd2db",
   "metadata": {},
   "outputs": [],
   "source": [
    "from ollama import chat"
   ]
  },
  {
   "cell_type": "markdown",
   "id": "300752c4",
   "metadata": {},
   "source": [
    "### **3. Stel een vraag**\n",
    "Probeert eens te vragen wat hij allemaal weet over Art-IE."
   ]
  },
  {
   "cell_type": "code",
   "execution_count": null,
   "id": "668367ad",
   "metadata": {},
   "outputs": [],
   "source": [
    "MODEL = 'gemma3:12b-it-qat'\n",
    "VRAAG = \"Wat kan je mij vertellen over Art-IE?\"\n",
    "\n",
    "response = chat(model=MODEL, messages=[\n",
    "  {\n",
    "    'role': 'user',\n",
    "    'content': VRAAG,\n",
    "  },\n",
    "])\n",
    "\n",
    "print(response.message.content)"
   ]
  },
  {
   "cell_type": "markdown",
   "id": "b4c3e539",
   "metadata": {},
   "source": [
    "### **Wat merk je op?**"
   ]
  }
 ],
 "metadata": {
  "kernelspec": {
   "display_name": ".venv",
   "language": "python",
   "name": "python3"
  },
  "language_info": {
   "codemirror_mode": {
    "name": "ipython",
    "version": 3
   },
   "file_extension": ".py",
   "mimetype": "text/x-python",
   "name": "python",
   "nbconvert_exporter": "python",
   "pygments_lexer": "ipython3",
   "version": "3.12.4"
  }
 },
 "nbformat": 4,
 "nbformat_minor": 5
}
