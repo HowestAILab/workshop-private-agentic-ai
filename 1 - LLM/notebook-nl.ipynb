{
 "cells": [
  {
   "cell_type": "markdown",
   "id": "ca9267be",
   "metadata": {},
   "source": [
    "# **Large Language Models**\n",
    "\n",
    "_LLM's worden vaak geassocieerd met OpenAI's ChatGPT, Google's Gemini enzovoort. Jouw data wordt gebruikt om hun modellen te trainen en beter te maken. Wegens commerciële redenen is er dus een groot gebrek aan privacy, maar wat als we onze sensitieve gegevens niet willen delen? Dan zijn open-source LLM's (of SLM's) iets voor jou!_"
   ]
  },
  {
   "cell_type": "markdown",
   "id": "fb664f1a",
   "metadata": {},
   "source": [
    "<img src=\"../.github/vraag-llm-antwoord.png\" alt=\"LLM\" width=\"500\"/>"
   ]
  },
  {
   "cell_type": "markdown",
   "id": "664fab60",
   "metadata": {},
   "source": [
    "---"
   ]
  },
  {
   "cell_type": "markdown",
   "id": "c7246c96",
   "metadata": {},
   "source": [
    "## **Ollama CLI**\n",
    "\n",
    "Ollama maakt het heel eenvoudig om lokaal taalmodellen te draaien. <br>\n",
    "We proberen het eerst eens met de CLI tool in de terminal en vervolgens eens met de Python SDK."
   ]
  },
  {
   "cell_type": "markdown",
   "id": "2e951b78",
   "metadata": {},
   "source": [
    "### **1. Download een taalmodel**\n",
    "We kiezen hier voor llama3.1, een model van Meta met 8 miljard parameters.\n",
    "```sh\n",
    "ollama pull llama3.1\n",
    "\n",
    "```\n",
    "\n",
    "### **2. Start een conversatie sessie**\n",
    "Dit zal het model in het geheugen van de GPU laden en klaar maken voor gebruik.\n",
    "```sh\n",
    "ollama run llama3.1\n",
    "\n",
    "```\n",
    "\n",
    "### **3. Stel enkele vragen**\n",
    "Het model heeft enkel kennis over de data waarop het is getraind, in dit geval tot en met augustus 2024.\n",
    "```txt\n",
    "Wat is de hoofdstad van België?\n",
    "```\n",
    "\n",
    "### **4. Sluit de sessie af**\n",
    "Dit zal het GPU geheugen opnieuw vrij te maken.\n",
    "```sh\n",
    "/bye\n",
    "\n",
    "```"
   ]
  },
  {
   "cell_type": "markdown",
   "id": "be2862f8",
   "metadata": {},
   "source": [
    "---"
   ]
  },
  {
   "cell_type": "markdown",
   "id": "1893ed92",
   "metadata": {},
   "source": [
    "## **Ollama Python SDK**"
   ]
  },
  {
   "cell_type": "markdown",
   "id": "bb9a994b",
   "metadata": {},
   "source": [
    "### **1. Installeer de Ollama Python SDK**"
   ]
  },
  {
   "cell_type": "code",
   "execution_count": null,
   "id": "2259139c",
   "metadata": {},
   "outputs": [],
   "source": [
    "%pip install ollama"
   ]
  },
  {
   "cell_type": "markdown",
   "id": "0c9941df",
   "metadata": {},
   "source": [
    "### **2. Importeer de nodige libraries**"
   ]
  },
  {
   "cell_type": "code",
   "execution_count": 1,
   "id": "6f8bd2db",
   "metadata": {},
   "outputs": [],
   "source": [
    "from ollama import chat"
   ]
  },
  {
   "cell_type": "markdown",
   "id": "300752c4",
   "metadata": {},
   "source": [
    "### **3. Stel een vraag**\n",
    "Probeert eens te vragen wat hij allemaal weet over Art-IE."
   ]
  },
  {
   "cell_type": "code",
   "execution_count": null,
   "id": "668367ad",
   "metadata": {},
   "outputs": [
    {
     "name": "stdout",
     "output_type": "stream",
     "text": [
      "I'd be happy to tell you about Artie!\n",
      "\n",
      "Artie (short for Artificial Intelligence Engine) is a cloud-based AI platform designed to help businesses automate and optimize their operations. The platform uses machine learning algorithms and natural language processing to understand and interpret complex data, allowing organizations to make more informed decisions.\n",
      "\n",
      "Some key features of Artie include:\n",
      "\n",
      "1. **Automation**: Artie can automate repetitive tasks and processes, freeing up human resources for higher-value activities.\n",
      "2. **Predictive analytics**: The platform can analyze large datasets to identify trends and patterns, enabling businesses to predict future outcomes and make data-driven decisions.\n",
      "3. **Natural Language Processing (NLP)**: Artie can understand and interpret human language, allowing users to interact with the platform using natural language queries.\n",
      "4. **Integration**: The platform integrates with various systems and applications, including CRM, ERP, and other business software.\n",
      "\n",
      "Artie is designed to be a highly scalable and flexible solution that can be tailored to meet the specific needs of different industries and organizations. By leveraging AI and machine learning, Artie aims to help businesses streamline their operations, improve efficiency, and drive innovation.\n"
     ]
    }
   ],
   "source": [
    "model = 'llama3.1'\n",
    "question = \"Wat kan je mij vertellen over Art-IE?\"\n",
    "\n",
    "response = chat(model=model, messages=[\n",
    "  {\n",
    "    'role': 'user',\n",
    "    'content': question,\n",
    "  },\n",
    "])\n",
    "\n",
    "print(response.message.content)"
   ]
  },
  {
   "cell_type": "markdown",
   "id": "b4c3e539",
   "metadata": {},
   "source": [
    "### **Wat merk je op?**"
   ]
  }
 ],
 "metadata": {
  "kernelspec": {
   "display_name": ".venv",
   "language": "python",
   "name": "python3"
  },
  "language_info": {
   "codemirror_mode": {
    "name": "ipython",
    "version": 3
   },
   "file_extension": ".py",
   "mimetype": "text/x-python",
   "name": "python",
   "nbconvert_exporter": "python",
   "pygments_lexer": "ipython3",
   "version": "3.12.11"
  }
 },
 "nbformat": 4,
 "nbformat_minor": 5
}
