{
 "cells": [
  {
   "cell_type": "markdown",
   "id": "a0959318",
   "metadata": {},
   "source": [
    "# **Model Context Protocol**"
   ]
  }
 ],
 "metadata": {
  "language_info": {
   "name": "python"
  }
 },
 "nbformat": 4,
 "nbformat_minor": 5
}
