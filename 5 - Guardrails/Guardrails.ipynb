{
 "cells": [
  {
   "cell_type": "markdown",
   "id": "e42600a3",
   "metadata": {},
   "source": [
    "# **GUARDRAILS**\n",
    "Als we agentic AI systemen in productie willen draaien moeten we niet alleen verzekeren dat ze correcte informatie geven maar ook dat ze niet antwoorden op vragen die niet relevant zijn aan hun doel.  \n",
    "\n",
    "We willen niet dat ons taalmodel opeens schadelijke termen gebruikt, hiervoor bestaan verschillende validator modellen zoals bv llamaguard waarin je verschillende policies ter beschikking hebt om het gegenereerde antwoord te controleren vooraleer je het resultaat toont aan de gebruiker.  \n",
    "Alternatief zou je dit ook kunnen inzetten voor prompts te controleren vooraleer deze worden doorgegeven aan het taalmodel\n",
    "\n",
    "In deze demo bouwen we verder op de RAG notebook en gaan we een extra laag toevoegen waarbij we via de open source guardrails-ai library het gegenereerde antwoord gaan valideren vooraleer we het terug aan de gebruiker tonen.\n",
    "\n",
    "Je kan alle mogelijke validators binnen de guardrails-ai library [hier](https://hub.guardrailsai.com/) terugvinden."
   ]
  },
  {
   "cell_type": "markdown",
   "id": "6b32984f",
   "metadata": {},
   "source": [
    "---"
   ]
  },
  {
   "cell_type": "markdown",
   "id": "9b915dec",
   "metadata": {},
   "source": [
    "## **Voorbereiding**"
   ]
  },
  {
   "cell_type": "code",
   "execution_count": 1,
   "id": "31b98210",
   "metadata": {},
   "outputs": [
    {
     "name": "stdout",
     "output_type": "stream",
     "text": [
      "Note: you may need to restart the kernel to use updated packages.\n"
     ]
    }
   ],
   "source": [
    "%pip install pymilvus[model,milvus_lite] pypdf ollama --quiet"
   ]
  },
  {
   "cell_type": "markdown",
   "id": "e0d0827b",
   "metadata": {},
   "source": [
    "---"
   ]
  },
  {
   "cell_type": "markdown",
   "id": "1786e678",
   "metadata": {},
   "source": [
    "## **Embedder**"
   ]
  },
  {
   "cell_type": "code",
   "execution_count": 2,
   "id": "e16eedb1",
   "metadata": {},
   "outputs": [
    {
     "name": "stderr",
     "output_type": "stream",
     "text": [
      "/home/jovyan/workshop-private-agentic-ai/venv/lib/python3.12/site-packages/tqdm/auto.py:21: TqdmWarning: IProgress not found. Please update jupyter and ipywidgets. See https://ipywidgets.readthedocs.io/en/stable/user_install.html\n",
      "  from .autonotebook import tqdm as notebook_tqdm\n",
      "None of PyTorch, TensorFlow >= 2.0, or Flax have been found. Models won't be available and only tokenizers, configuration and file/data utilities can be used.\n"
     ]
    },
    {
     "name": "stdout",
     "output_type": "stream",
     "text": [
      "Elke vector zal uit 768 kommagetallen bestaan.\n"
     ]
    }
   ],
   "source": [
    "from pymilvus import model\n",
    "\n",
    "# Laadt een standaard embedder model\n",
    "embedder = model.DefaultEmbeddingFunction()\n",
    "\n",
    "print(f\"Elke vector zal uit {embedder.dim} kommagetallen bestaan.\")"
   ]
  },
  {
   "cell_type": "markdown",
   "id": "6c8723d2",
   "metadata": {},
   "source": [
    "---"
   ]
  },
  {
   "cell_type": "code",
   "execution_count": 3,
   "id": "c5ed4edc",
   "metadata": {},
   "outputs": [
    {
     "name": "stderr",
     "output_type": "stream",
     "text": [
      "/home/jovyan/workshop-private-agentic-ai/venv/lib/python3.12/site-packages/milvus_lite/__init__.py:15: UserWarning: pkg_resources is deprecated as an API. See https://setuptools.pypa.io/en/latest/pkg_resources.html. The pkg_resources package is slated for removal as early as 2025-11-30. Refrain from using this package or pin to Setuptools<81.\n",
      "  from pkg_resources import DistributionNotFound, get_distribution\n"
     ]
    }
   ],
   "source": [
    "from pymilvus import MilvusClient\n",
    "\n",
    "vectordb = MilvusClient(\"../milvus.db\")"
   ]
  },
  {
   "cell_type": "markdown",
   "id": "5a3ada22",
   "metadata": {},
   "source": [
    "### **2. Maak een collectie aan**"
   ]
  },
  {
   "cell_type": "code",
   "execution_count": 4,
   "id": "2ce0c8c1",
   "metadata": {},
   "outputs": [
    {
     "name": "stdout",
     "output_type": "stream",
     "text": [
      "Beschikbare collecties: LangChainCollection, blogpost\n"
     ]
    }
   ],
   "source": [
    "collections = vectordb.list_collections()\n",
    "\n",
    "if \"blogpost\" not in collections:\n",
    "  # Aanmaken van nieuwe collectie\n",
    "  vectordb.create_collection(\n",
    "    collection_name=\"blogpost\",\n",
    "    dimension=embedder.dim\n",
    "  )\n",
    "\n",
    "# Lijst alle collecties op ter controle\n",
    "collections = vectordb.list_collections()\n",
    "print(f\"Beschikbare collecties: {', '.join(collections)}\")"
   ]
  },
  {
   "cell_type": "markdown",
   "id": "6bb73419",
   "metadata": {},
   "source": [
    "### **3. Uitlezen van PDF**"
   ]
  },
  {
   "cell_type": "code",
   "execution_count": 5,
   "id": "54374fbd",
   "metadata": {},
   "outputs": [],
   "source": [
    "from pypdf import PdfReader\n",
    "\n",
    "def lees_pdf(path):\n",
    "    # Open de PDF\n",
    "    pdf = PdfReader(path)\n",
    "    text = \"\"\n",
    "    # Overloop elke pagina\n",
    "    for page in pdf.pages:\n",
    "        # Lees de paginatekst uit\n",
    "        page_text = page.extract_text()\n",
    "        # Voeg de paginatekst toe aan de totale tekst\n",
    "        text += page_text + \"\\n\"\n",
    "    return text"
   ]
  },
  {
   "cell_type": "code",
   "execution_count": 6,
   "id": "b4ec28c6",
   "metadata": {},
   "outputs": [
    {
     "name": "stdout",
     "output_type": "stream",
     "text": [
      "Blogpost\n",
      "Hoe maak je AI-modellen klein en \n",
      "efficiënt?\n",
      "AI-modellen worden steeds krachtiger, maar vaak ook steeds groter. Grote \n",
      "modellen vereisen veel rekenkracht, geheugen en energie - wat ze minder \n",
      "geschikt maakt voor gebruik op edge devices, maar ook realtime computervisie \n",
      "applicaties zoals de Howest Virtual Mirror. Gelukkig zijn er diverse technieken \n",
      "om AI-modellen te verkleinen zonder de accuraatheid ervan te verlagen. In \n",
      "deze blogpost bespreken we de belangrijkste optimalisatiestrategieën: \n",
      "quantisatie, distillatie, pruning en meer. We bekijken ook welke tools je kunt \n",
      "gebruiken, op welke platformen ze draaien, en hoe groot de impact kan zijn.\n",
      "1. Quantisatie\n",
      "Inleiding\n",
      "Binnenin een AI model zitten er miljoenen tot miljarden kommagetallen - ook \n",
      "wel “gewichtenˮ en “activatiesˮ genoemd. Elk getal neemt typisch 32 bits \n",
      "(nullen en enen) geheugen in beslag.\n",
      "Voor een computer zijn kommagetallen eigenlijk zeer lastig om mee te rekenen. \n",
      "Één zoʼn berekening duurt uiteraard slechts enkele nanoseconden (of minder), \n",
      "maar door de enorme hoeveelheid ervan loopt deze vertraging zo hoog op dat \n",
      "het uiteindelijke model er seconden tot minuten over doet om data te \n",
      "verwerken.\n",
      "Voorbeeld: elk sub-woord dat door GPT4 genereert wordt moet door 1 tot 2 \n",
      "biljoen parameters verwerkt worden. Beeld je maar in hoeveel berekeningen \n",
      "nodig zijn om een volledige tekst te genereren. Dit is de reden dat er voor AI \n",
      "zoʼn grote nood is aan krachtige GPUʼs.\n",
      "Bestaand model quantiseren\n",
      "Post-training quantization PTQ is het proces waarbij de getallen in een reeds \n",
      "getraind model worden omgezet van 32-bit floating-point FP32 naar een \n",
      "lagere precisie, zoals 16-bit FP16 of zelfs 8-bit integers INT8. Concreet heb \n",
      "Blogpost\n",
      "1\n",
      "je dan minder cijfers na de komma, of zelfs helemaal geen kommagetallen \n",
      "meer.\n",
      "Impact:\n",
      "Tot 4x verkleining van modelgrootte (van FP32 naar INT8.\n",
      "2x tot 4x snelheidsverbetering.\n",
      "Vaak minimaal verlies in nauwkeurigheid 5%.\n",
      "Wat men vaak doet is het gequantiseerde model nog eens kort hertrainen of \n",
      "finetunen met gequantiseerde data. Dikwijls verhoogt dit de accuraatheid \n",
      "opnieuw naar het oorspronkelijke niveau van het niet-gequantiseerde model.\n",
      "Gequantiseerd trainen\n",
      "Een tweede mogelijkheid is Quantized Aware Training QAT. Hierbij traint men \n",
      "het model met reeds afgeronde getallen om het quantisatie-effect te simuleren. \n",
      "Typisch levert dit nog betere resultaten op dan PTQ, maar je moet het op \n",
      "voorhand in rekening brengen of je model volledig hertrainen.\n",
      "Voorbeelden: op Ollama kan je van sommige taalmodellen - zoals de gemma3 \n",
      "familie - ook QAT-varianten terugvinden die tot 3 keer sneller zijn \n",
      "(https://ollama.com/library/gemma34b-it-qat). Ook van computervisie \n",
      "modellen zoals YOLO bestaan PTQ-varianten zoals YOLOv8Detection-\n",
      "Quantized (https://huggingface.co/qualcomm/YOLOv8Detection-Quantized).\n",
      "Frameworks\n",
      "Er bestaan verschillende Python-libraries die functies bevatten om jouw model \n",
      "te quantiseren:\n",
      "Gebruik de “tf.lite.Optimizeˮ library voor TensorFlow modellen.\n",
      "Blogpost\n",
      "2\n",
      "Gebruik de “torch.ao.quantizationˮ library voor PyTorch modellen. Dit is een \n",
      "onderdeel van de PyTorch Architecture Optimization library.\n",
      "Gebruik “onnxruntime.quantizationˮ library voor modellen die geëxporteerd \n",
      "zijn als een gestandaardiseerd ONNX formaat.\n",
      "Ook Hugging Faceʼs Optimum library beschikt over quantisatie \n",
      "mogelijkheden voor ONNX modellen en Intel-systemen.\n",
      "2. Pruning\n",
      "Pruning verwijdert elementen uit het model die weinig bijdragen aan het \n",
      "uiteindelijke resultaat ervan. Het verminderen van overbodige parameters \n",
      "verkleint het aantal berekeningen die moeten gemaakt worden waardoor het \n",
      "model sneller zal zijn.\n",
      "Er bestaan twee soorten pruning:\n",
      "Niet-gestructureerde pruning: verwijderen van individuele gewichten of \n",
      "verbindingen.\n",
      "Gestructureerde pruning: verwijderen van hele filters, neuronen of lagen.\n",
      "Blogpost\n",
      "3\n",
      "Ook hier kan je het model hertrainen of finetunen na het prunen om het kleine \n",
      "verlies in accuraatheid te compenseren.\n",
      "Frameworks\n",
      "Er bestaan Python-libraries die functies bevatten om jouw model te prunen:\n",
      "Gebruik de “torch.nn.utils.pruneˮ library voor PyTorch modellen.\n",
      "Gebruik de “tensorflow_model_optimization.sparsity.kerasˮ library voor \n",
      "TensorFlow modellen.\n",
      "Ook Hugging Faceʼs Optimum library beschikt over pruning mogelijkheden \n",
      "voor Intel-systemen.\n",
      "3. Kennisdistillatie\n",
      "Kennisdistillatie is een techniek waarbij een klein model wordt getraind om de \n",
      "output van een groot, krachtig model te imiteren. Men beschrijft dit vaak als \n",
      "een student-leerkracht relatie.\n",
      "Het leerkracht-model werd getraind door te leren uit grote hoeveelheden data. \n",
      "Het student-model daarentegen, wordt enkel getraind wordt op de output van \n",
      "een (reeds getraind) leerkracht-model en komt eigenlijk nooit in aanraking met \n",
      "de oorspronkelijke data.\n",
      "In de praktijk blijkt dat student-modellen vaak bijna dezelfde nauwkeurigheid \n",
      "kunnen bereiken als het leerkracht-model terwijl ze veel kleiner en sneller zijn. \n",
      "Voorbeeld: Het Chinese DeepSeek ontwikkelt gedistilleerde taalmodellen aan \n",
      "zoals DeepSeek-R1Distill-Qwen-7B (https://huggingface.co/deepseek-\n",
      "ai/DeepSeek-R1Distill-Qwen-7B. Een ouder succesverhaal van distillatie is \n",
      "TinyBERT. Die is ruim 7 keer kleiner en 9 keer sneller dan het oorspronkelijke \n",
      "BERT terwijl het slecht een daling van ±3% heeft in nauwkeurigheid \n",
      "(https://arxiv.org/pdf/1909.10351.\n",
      "Samenvatting\n",
      "Blogpost\n",
      "4\n",
      "Optimalisatietechnieken kunnen een sterk voordeel bieden op vlak van \n",
      "snelheid, energieconsumptie, kostprijs, hardware beperkingen en speelt een \n",
      "grote rol in computervisie en taalmodellen. Het vergt wel enige tijd om mee te \n",
      "experimenteren en het verlies in accuraatheid te beoordelen en/of te \n",
      "compenseren. Deze extra ontwikkelingstijd kan afhankelijk van de schaal van \n",
      "het project wel of niet de moeite waard zijn. Of de implementatie van één of \n",
      "meerdere van deze technieken interessant is, moet dus voor elk scenario \n",
      "individueel beoordeeld worden.\n",
      "Samenvatting\n",
      "Optimalisatietechnieken zoals quantisatie, pruning en distillatie kunnen heel \n",
      "voordelig zijn op vlak van snelheid, energieverbruik, kostprijs en hardware-\n",
      "eisen. Zeker in toepassingen zoals computervisie en taalmodellen maken ze het \n",
      "verschil.\n",
      "Het vergt wel enige tijd om mee te experimenteren en het verlies in \n",
      "accuraatheid te beoordelen en/of te compenseren. Deze extra ontwikkelingstijd \n",
      "kan afhankelijk van de schaal van het project al dan niet de moeite waard zijn.\n",
      "Blogpost\n",
      "5\n",
      "\n"
     ]
    }
   ],
   "source": [
    "text = lees_pdf(\"Blogpost.pdf\")\n",
    "\n",
    "print(text)"
   ]
  },
  {
   "cell_type": "markdown",
   "id": "d4b26fdc",
   "metadata": {},
   "source": [
    "### **4. Tekst opsplitsen in chunks**"
   ]
  },
  {
   "cell_type": "code",
   "execution_count": 7,
   "id": "750ee014",
   "metadata": {},
   "outputs": [
    {
     "name": "stdout",
     "output_type": "stream",
     "text": [
      "De tekst van 6434 karakters is opgedeeld in 17 stukken van 512 karakters met een overlap van 128 karakters.\n"
     ]
    }
   ],
   "source": [
    "def verdeel_in_chunks(text):\n",
    "    # Kap de tekst in stukken van 512 karakters met een overlap van 128 karakters\n",
    "    return [text[i:i+512] for i in range(0, len(text), 512-128)]\n",
    "\n",
    "chunks = verdeel_in_chunks(text)\n",
    "\n",
    "print(f\"De tekst van {len(text)} karakters is opgedeeld in {len(chunks)} stukken van 512 karakters met een overlap van 128 karakters.\")"
   ]
  },
  {
   "cell_type": "markdown",
   "id": "ff8df0f5",
   "metadata": {},
   "source": [
    "### **5. Chunks omzetten naar vectoren (embedding)**"
   ]
  },
  {
   "cell_type": "code",
   "execution_count": 8,
   "id": "9ed09b38",
   "metadata": {},
   "outputs": [
    {
     "name": "stdout",
     "output_type": "stream",
     "text": [
      "[ 1.29018592e-02  3.39036770e-02  1.38407766e-02 -2.37033707e-02\n",
      "  1.41432613e-02  3.95085805e-03  1.88760110e-02 -8.68984044e-03\n",
      "  1.15502608e-02 -5.03735968e-02  2.82360245e-02  1.72525111e-02\n",
      " -4.01088214e-02 -9.24565990e-02  4.08349949e-03  8.70588821e-03\n",
      " -4.49316271e-02 -2.97982639e-02  9.14872596e-03 -3.51780792e-02\n",
      " -2.84741202e-02  7.10667871e-03  6.14562642e-03 -4.83656790e-02\n",
      " -1.91955768e-02  2.58579572e-02 -2.50022672e-03  6.60995886e-03\n",
      " -2.69456672e-02 -6.56958160e-03 -6.13001304e-02 -1.31404978e-02\n",
      " -1.11235976e-03 -1.92446138e-02 -5.01196418e-02 -5.89045018e-02\n",
      " -4.28706692e-03  1.35904013e-02 -1.09148787e-02  4.75778651e-02\n",
      " -1.04830794e-02  1.61411537e-02  5.04271331e-03  9.73946099e-02\n",
      " -1.69801032e-02  4.72021578e-02  3.78695107e-02 -1.64447006e-02\n",
      " -3.84100724e-02 -4.90669637e-02  5.57478051e-02 -2.05240117e-02\n",
      " -1.50153572e-02  2.02639055e-02 -3.07705993e-02  1.58992441e-02\n",
      "  2.00894628e-02 -5.43083013e-02  1.18508606e-02 -2.68718669e-02\n",
      "  1.21449998e-02 -2.39214580e-02  5.86706851e-02 -3.61095454e-02\n",
      " -4.11705068e-02 -3.05174737e-02  3.14643311e-02 -5.15372923e-02\n",
      "  2.54327206e-02 -8.62433402e-03 -2.84373530e-02 -4.64108306e-02\n",
      " -8.60516793e-03  6.41533725e-03  1.77647520e-02 -2.75246894e-02\n",
      "  4.05788039e-02  6.93191169e-02 -3.40865259e-02  9.66282740e-03\n",
      " -1.27231018e-02 -5.14441016e-04 -1.10420885e-02 -1.30841827e-02\n",
      " -7.23758794e-03  4.86812642e-02  1.81783584e-02  7.78859771e-03\n",
      " -6.80199462e-03  1.52835354e-02 -2.06837825e-02  1.52568374e-03\n",
      "  7.51994904e-03  3.27629978e-02  1.93539938e-02  8.12527094e-04\n",
      "  4.93469668e-04 -2.83716083e-02  2.21216499e-02 -1.22369112e-02\n",
      "  4.53554692e-02  1.50839256e-02 -4.37312213e-02  7.89725457e-02\n",
      " -6.86877081e-03  2.99914659e-02 -5.21589939e-02 -2.67938310e-03\n",
      " -3.26215950e-02  3.24733309e-02  7.62743678e-03 -1.53998536e-03\n",
      " -3.05134770e-02  1.30945685e-02 -6.00476583e-02  3.37006659e-02\n",
      " -3.51591128e-02 -6.14177203e-02  2.00682718e-02 -1.25138162e-02\n",
      "  1.15945434e-03 -8.69020183e-02  1.35035326e-01 -4.77658443e-02\n",
      "  6.81348623e-02  5.69250661e-02  1.98505756e-02 -7.60722405e-03\n",
      "  3.63329188e-02  1.21664806e-02 -6.67122553e-02  4.37948510e-02\n",
      "  5.58630470e-02  4.36156729e-02 -1.56763078e-02  5.46737312e-03\n",
      "  1.05680764e-02  1.12618976e-02 -1.25881639e-02  6.15648715e-02\n",
      " -4.00707087e-02  9.54692213e-03 -1.05001378e-02  2.54885103e-02\n",
      "  7.73918084e-03 -6.76434935e-03 -1.45775963e-02  1.14923119e-02\n",
      " -3.32918925e-02  7.25951547e-02  1.55883437e-03  3.15255046e-02\n",
      " -9.05845752e-03  3.28092366e-02 -2.47796855e-02  2.11369022e-02\n",
      "  4.17592528e-02  3.79724693e-02  4.03129829e-03  2.75200115e-02\n",
      " -3.64364147e-02 -3.67049984e-02 -5.00098234e-03  6.43644062e-03\n",
      "  4.01844640e-02  1.97040484e-02  1.29161256e-02 -4.40828894e-02\n",
      " -2.47979989e-02 -1.01318722e-02 -1.97954208e-02 -8.04329526e-03\n",
      " -1.37253517e-02  3.52286927e-02  4.40126043e-02  1.96309984e-02\n",
      " -2.21114685e-02  2.74206102e-02 -3.85074639e-02  2.47454870e-02\n",
      " -1.53781015e-02 -6.54478669e-02 -4.10338280e-04 -4.17411843e-02\n",
      " -1.08633412e-01 -2.34191474e-02  1.19084319e-02  5.77869573e-02\n",
      "  3.01943342e-02  1.14006290e-02 -1.21524079e-02 -1.65399004e-02\n",
      "  4.46837384e-02 -9.82887729e-02 -5.10966991e-02 -1.47881826e-03\n",
      "  7.57363157e-02  4.69748290e-02  1.21585322e-02 -1.21654077e-02\n",
      " -3.57738870e-02  3.29982607e-02 -2.47575529e-02 -4.74906194e-03\n",
      " -1.38650466e-02  3.54025006e-02 -1.02741252e-02 -1.83970189e-02\n",
      "  3.50892877e-02  2.27800439e-02  4.85937365e-02  4.19493877e-02\n",
      "  5.58205676e-03  2.01270700e-02  8.64438181e-02  4.27831191e-02\n",
      " -1.15272187e-02  5.30561875e-02 -4.99151336e-02  1.07081204e-02\n",
      "  1.08905111e-02  4.48052367e-02 -2.48611984e-02 -2.67264069e-02\n",
      " -3.80676627e-03  1.71547753e-03 -2.92502103e-02  6.40728411e-02\n",
      " -2.41556761e-02 -3.11217371e-04  1.61926920e-02  2.48860828e-02\n",
      "  4.19414309e-02  6.29891099e-02 -1.10093673e-02 -2.41923112e-02\n",
      "  7.26950102e-02 -1.76695475e-03 -3.97130953e-02 -2.19562998e-02\n",
      " -5.26815825e-02  7.77817262e-03  2.81374937e-02 -3.78988615e-02\n",
      "  5.55995894e-02  3.70280247e-03 -2.19400319e-02  9.07298955e-04\n",
      "  2.45819588e-02 -6.56266869e-02 -6.62462531e-02 -5.41731534e-02\n",
      "  1.91266923e-03  1.48637125e-02 -3.73243992e-02  1.26517623e-03\n",
      "  1.25809826e-02 -4.28534366e-02 -3.76794012e-02 -4.60391745e-02\n",
      " -9.69600064e-03 -1.13204783e-02 -3.89260605e-02  3.90191357e-02\n",
      " -4.40294636e-03  3.69699849e-02  2.31314359e-02  8.04737351e-03\n",
      " -2.76820698e-02  3.86876690e-02  1.25968004e-02 -4.11340230e-02\n",
      " -3.67877065e-02 -5.35488018e-02 -3.00374414e-02  1.45131567e-02\n",
      " -3.95469203e-03  6.24228525e-03 -4.83148993e-02 -4.24799193e-02\n",
      " -5.16404950e-02  1.63635125e-02  2.71409474e-03 -1.65586388e-02\n",
      "  4.04042827e-02  1.35035754e-03 -2.55763146e-02 -7.62204025e-02\n",
      "  1.60973120e-02 -4.45756353e-02 -5.77564795e-02  9.59894244e-03\n",
      " -5.88999157e-02 -2.64320598e-02 -1.58739146e-02  3.83749562e-02\n",
      "  6.19639430e-02  1.38845781e-02  3.32050506e-02 -5.84684411e-02\n",
      "  5.86367436e-02  2.68323673e-02 -1.39215461e-04 -6.82402926e-02\n",
      "  9.68130104e-03  4.86459876e-02 -3.41996264e-02 -4.33379374e-02\n",
      " -2.36025468e-02  1.86529739e-02 -2.01815155e-02 -2.61617830e-02\n",
      "  2.63423983e-02 -3.78659975e-03  2.38670399e-02  1.80422391e-02\n",
      "  2.43590922e-02 -3.15434846e-02 -2.34681609e-02  4.10472944e-02\n",
      " -4.64214569e-02 -3.16245735e-02 -4.60286766e-02  2.41656296e-02\n",
      " -7.02496998e-02  5.75256631e-03  3.10372151e-03  1.86513485e-03\n",
      " -1.13491249e-02  4.51384586e-02 -2.75052212e-02  3.81216949e-02\n",
      " -3.77473382e-02 -3.66991135e-02  1.94610796e-03  1.01533594e-02\n",
      " -2.88501539e-02  2.53184834e-02  5.28402965e-02  5.48570799e-02\n",
      " -1.04051315e-02  8.35227576e-03 -4.04999912e-02 -3.95726953e-02\n",
      "  4.37915142e-02 -2.58229079e-02 -1.95877893e-03 -1.83181541e-02\n",
      " -2.56140892e-03 -2.53897520e-02 -1.72105107e-02 -8.54047833e-03\n",
      " -4.00735727e-02  4.68037273e-02 -2.34592459e-02 -1.05757951e-02\n",
      " -7.49952021e-03  9.38530334e-03  5.57302139e-03  5.91945533e-02\n",
      " -3.77700665e-02  6.20721543e-03 -2.32309765e-02  3.66549859e-02\n",
      " -1.23853651e-02  2.65344817e-03 -4.46967566e-02 -1.44164677e-02\n",
      "  3.64263050e-02  7.57417695e-03 -1.98007686e-02  1.14974751e-03\n",
      "  2.31120332e-02 -6.65778010e-02 -5.98554333e-02 -9.08708648e-03\n",
      "  1.10993850e-02 -9.71615746e-02 -5.51877256e-02 -2.02556600e-02\n",
      "  3.58095962e-02  3.18188063e-02  1.27821932e-02  1.94794740e-02\n",
      " -4.82594661e-02  3.16822212e-02 -1.32055506e-02 -4.06359182e-02\n",
      "  6.85972683e-04  7.97979346e-03 -2.64326675e-02  1.21449699e-02\n",
      " -3.33197800e-02 -5.98142649e-03 -7.00154447e-03  1.40363595e-02\n",
      "  1.05123913e-03 -3.78793026e-02  4.33166895e-02  5.35643234e-02\n",
      "  4.45757505e-02  1.78362972e-02 -6.43025238e-02  3.28012440e-02\n",
      "  6.20183751e-03  6.77320589e-02  9.11664152e-03 -2.18719004e-02\n",
      " -1.52722682e-02 -1.24787033e-02 -1.25167451e-02  5.18947769e-02\n",
      " -5.53068617e-02  9.60380292e-03 -2.46698218e-03  6.41779204e-03\n",
      "  3.62028318e-02 -4.56352582e-02  2.57600809e-02 -2.75610412e-02\n",
      "  8.67468783e-02  1.01249921e-02  1.90955299e-02  2.97375048e-02\n",
      "  1.17174185e-02  3.27926367e-02  1.93980414e-02 -4.27530743e-02\n",
      "  4.19914831e-03 -4.09885248e-02  6.39165480e-03  1.97633638e-02\n",
      " -1.51605205e-02 -4.14404491e-02 -3.02595687e-02  3.94182327e-02\n",
      "  9.79195311e-03 -3.08853801e-02  4.45981388e-03  6.02678773e-04\n",
      "  1.89497170e-02  1.21336797e-02 -4.21404891e-02  1.69857030e-02\n",
      "  7.96656975e-02  1.87563065e-02 -5.21486288e-02 -1.58418366e-02\n",
      " -9.74470827e-03  2.95155942e-02 -5.56861871e-02  1.74496033e-02\n",
      " -7.02929866e-02 -6.29441889e-02  1.23776727e-02 -7.88001529e-02\n",
      " -2.12429200e-02  4.48197340e-02  4.46453745e-02  2.56537780e-02\n",
      " -7.60093237e-02  3.99727527e-02 -5.08371571e-02  5.21552320e-02\n",
      " -2.93499408e-02 -3.92394278e-02 -2.28576091e-02  7.85526614e-03\n",
      "  2.06884794e-02 -2.22027755e-02 -3.49985747e-02  2.00427500e-02\n",
      "  2.24220604e-02 -2.52053073e-02 -3.55579615e-03  1.20037627e-02\n",
      "  1.68657329e-02  3.18016346e-02  7.01912204e-02 -2.88397499e-03\n",
      "  3.42543979e-02 -2.77589643e-02 -2.71129185e-02  1.79851715e-02\n",
      " -1.48445935e-02  2.91110095e-02  5.03921564e-03 -1.34104327e-02\n",
      "  9.38122895e-02  5.77374539e-02  1.44389938e-02 -2.99785534e-02\n",
      "  1.60231743e-02 -2.91536502e-03 -1.03215224e-02  6.58703114e-03\n",
      "  2.77989951e-03 -5.23081954e-02 -1.62719742e-02  3.78937388e-02\n",
      "  9.88574298e-02  1.35627755e-02  4.05806016e-02  3.71766291e-03\n",
      "  3.27437591e-02 -4.65115265e-02 -1.64752645e-02  7.08357772e-02\n",
      " -2.02308232e-02 -8.19605852e-03  3.89378722e-02 -9.17033377e-04\n",
      "  6.46734802e-02  2.47894871e-02 -3.49180687e-02 -7.35774699e-02\n",
      "  3.54212041e-02 -7.97764605e-04 -6.07050758e-02  3.12786070e-02\n",
      "  6.41712481e-02  1.35829434e-03 -3.92980779e-03  2.34595128e-03\n",
      " -1.80082197e-03 -1.25613631e-02 -3.07518605e-02 -2.02449063e-02\n",
      "  4.66298925e-02 -3.31202767e-02 -4.35007578e-03 -4.43886295e-02\n",
      "  3.62027561e-02  5.10156225e-04  3.83664878e-02  2.31143344e-02\n",
      "  3.74993856e-02  6.68623434e-04 -7.58829021e-03  3.46811392e-02\n",
      " -3.86118815e-02 -1.08468455e-02  8.33794751e-02 -3.22930175e-02\n",
      "  2.29361962e-02 -5.02495203e-02 -1.91227727e-02  2.89755492e-02\n",
      " -4.21529827e-02 -2.80794129e-02  1.99666719e-02  3.35532061e-02\n",
      "  1.48460203e-02 -3.93938285e-02  2.58253461e-02  3.03234038e-02\n",
      "  1.69936859e-02 -3.32681039e-02  5.86853722e-05  3.90058244e-03\n",
      "  2.59776633e-02 -1.25538789e-02 -1.03383858e-01  8.38832860e-03\n",
      "  1.52887568e-03  1.90830867e-02 -3.12437062e-02  5.67643627e-02\n",
      " -4.85924338e-02 -6.72977200e-02 -4.06720035e-03 -5.07807220e-02\n",
      " -4.35582559e-02  1.24438916e-01 -8.76630047e-03  9.16945909e-03\n",
      "  1.37583494e-02  1.48898323e-03 -1.49587505e-02 -3.19676858e-02\n",
      " -5.89459589e-02 -2.52485715e-02  3.37672693e-02 -2.48896249e-02\n",
      "  2.36097693e-03 -3.90042242e-02  2.92164025e-02  1.90313001e-02\n",
      "  8.28537778e-03  1.90857134e-02 -3.40642694e-02  2.40101043e-02\n",
      "  1.41018761e-02  6.39312831e-02 -1.88969854e-02 -9.03693350e-03\n",
      " -7.57936831e-06 -5.99302053e-03 -1.20177457e-02 -2.00553658e-02\n",
      "  6.81881240e-03  3.40664985e-02  4.81454584e-02  1.04908371e-02\n",
      " -6.60868097e-02 -2.15513059e-02 -7.80951326e-02 -3.56620413e-02\n",
      "  9.61110163e-03 -2.90993866e-03  1.21772785e-02 -2.48874018e-02\n",
      "  1.17479241e-02  2.70754649e-02  4.45067727e-02 -4.73376178e-02\n",
      " -3.84325384e-02 -1.19837694e-02  2.74968318e-02  4.31885547e-03\n",
      " -9.58484205e-04 -8.48950940e-02 -3.93061842e-02 -4.54987636e-02\n",
      " -3.90739991e-02  2.80083177e-02 -1.58505577e-02 -2.57467174e-02\n",
      " -2.61293471e-03 -4.25861133e-02  1.61640745e-02 -6.38007039e-04\n",
      "  1.65655253e-03  3.05432021e-02  3.07562919e-02 -1.84183561e-02\n",
      " -1.65517413e-03 -1.09521492e-02  1.57526157e-01  6.28562910e-03\n",
      " -7.60021128e-03 -2.36718838e-02 -3.99494469e-02 -3.67869289e-03\n",
      " -8.53941147e-03  1.49831799e-02 -1.09288385e-01  7.81032797e-03\n",
      "  2.89289107e-02  4.37478827e-02 -1.17848152e-02 -2.94309505e-02\n",
      "  2.45065912e-02  2.09737421e-02  4.90562365e-02 -5.29908289e-02\n",
      " -2.27584155e-02 -3.32060174e-02  3.81183845e-03 -1.98575199e-02\n",
      " -3.73035756e-02  1.05555240e-02  5.93331297e-02 -1.02234994e-02\n",
      " -7.52038524e-03  5.38586779e-02 -4.37153498e-02  3.32529552e-02\n",
      " -2.45230730e-03  3.83147941e-02 -2.60985330e-02  4.87953021e-02\n",
      "  1.79225315e-02  1.84860172e-02  1.24734337e-02 -5.41341165e-02\n",
      " -2.36471253e-02  2.96053255e-02 -3.45216949e-02  1.83466510e-02\n",
      " -4.67157273e-02  9.07483351e-02 -1.68580887e-02  2.28349224e-02\n",
      "  1.79983658e-02  2.31206443e-02  3.19638861e-03  4.48573926e-04\n",
      " -1.62940735e-02 -3.59482450e-02 -4.44718844e-02 -3.69553999e-03\n",
      " -4.37432158e-02 -3.05329112e-02  3.90680377e-02  1.48312309e-02\n",
      "  8.47428469e-02 -1.81579394e-02 -2.21764876e-02 -4.05170420e-02\n",
      " -6.04691766e-02 -3.00601103e-02  1.74158344e-02  4.98699909e-02\n",
      "  4.73616054e-02 -6.24683648e-02  2.90325062e-02  3.09367050e-02\n",
      "  3.65881517e-02 -4.99564356e-02  1.03203065e-02  5.58256330e-02\n",
      "  3.47860550e-02 -6.30726051e-04  2.06445807e-02 -7.00541989e-02\n",
      " -6.91308816e-02 -2.20891583e-02  4.20025897e-02 -3.80792787e-03\n",
      " -2.47016424e-02  6.01912115e-02 -7.19663733e-02 -1.54928011e-02\n",
      " -1.23076549e-03 -3.06172814e-02 -4.20765023e-03 -2.22056333e-02\n",
      "  6.55382050e-02  4.69544518e-02 -2.01086896e-02  3.27012632e-02\n",
      "  4.27076171e-02  5.14927076e-02 -2.51986327e-02 -6.36746736e-03\n",
      "  2.38293999e-02 -1.05178285e-02 -1.40917390e-02  1.27652597e-02\n",
      " -1.12103403e-02  1.06495436e-02 -5.80083722e-02  6.32696751e-02\n",
      "  8.64124058e-02  1.57330551e-02 -1.85196651e-02  1.67243912e-03\n",
      "  1.55139007e-02 -2.50140487e-02  1.85069284e-02 -7.13249792e-03\n",
      " -2.07141539e-02 -7.87118195e-03  3.58903928e-02 -2.91240021e-02\n",
      " -3.19071325e-03  3.30804243e-02 -2.10636814e-02  6.17162976e-03\n",
      " -3.71514434e-02  4.92540872e-02  1.39203024e-02  7.03142717e-03\n",
      "  7.29482327e-02 -4.29776919e-03 -5.23238684e-03  3.72227109e-03]\n"
     ]
    }
   ],
   "source": [
    "# Omzetten van teksten naar vectoren\n",
    "vectors = embedder.encode_documents(chunks)\n",
    "\n",
    "# Een kijkje nemen naar de eerste vector = chunk 1\n",
    "print(vectors[0])"
   ]
  },
  {
   "cell_type": "markdown",
   "id": "dedd7d95",
   "metadata": {},
   "source": [
    "### **6. Vectoren in database stoppen**"
   ]
  },
  {
   "cell_type": "code",
   "execution_count": 9,
   "id": "40e6b22d",
   "metadata": {},
   "outputs": [
    {
     "data": {
      "text/plain": [
       "{'insert_count': 17, 'ids': [0, 1, 2, 3, 4, 5, 6, 7, 8, 9, 10, 11, 12, 13, 14, 15, 16], 'cost': 0}"
      ]
     },
     "execution_count": 9,
     "metadata": {},
     "output_type": "execute_result"
    }
   ],
   "source": [
    "from pymilvus import MilvusClient\n",
    "\n",
    "client = MilvusClient(\"../milvus.db\")\n",
    "\n",
    "# Formatteer de vectoren als een lijst van dictionaries\n",
    "data = [ {\"text\": text, \"vector\": vector, \"id\": id} for id, (text, vector) in enumerate(zip(chunks, vectors)) ]\n",
    "\n",
    "# Vectoren toevoegen aan de blogpost collectie\n",
    "client.insert(\"blogpost\", data)"
   ]
  },
  {
   "cell_type": "markdown",
   "id": "7bd1ef0f",
   "metadata": {},
   "source": [
    "---"
   ]
  },
  {
   "cell_type": "markdown",
   "id": "87a4459f",
   "metadata": {},
   "source": [
    "## **Vector database bevragen** *(= Retrieval)*"
   ]
  },
  {
   "cell_type": "markdown",
   "id": "06fc64ed",
   "metadata": {},
   "source": [
    "### **6. Vraag embedden**"
   ]
  },
  {
   "cell_type": "code",
   "execution_count": 10,
   "id": "6f2b5745",
   "metadata": {},
   "outputs": [],
   "source": [
    "question = \"Wat kan je me vertellen over de blogpost?\"\n",
    "\n",
    "question_vector = embedder.encode_queries([question])[0]"
   ]
  },
  {
   "cell_type": "markdown",
   "id": "4ddb247a",
   "metadata": {},
   "source": [
    "### **7. Relevante documenten zoeken**"
   ]
  },
  {
   "cell_type": "code",
   "execution_count": 11,
   "id": "419ba18f",
   "metadata": {},
   "outputs": [
    {
     "name": "stdout",
     "output_type": "stream",
     "text": [
      "Resultaten:\n",
      "{'id': 0, 'distance': 0.4311070442199707, 'entity': {'text': 'Blogpost\\nHoe maak je AI-modellen klein en \\nefficiënt?\\nAI-modellen worden steeds krachtiger, maar vaak ook steeds groter. Grote \\nmodellen vereisen veel rekenkracht, geheugen en energie - wat ze minder \\ngeschikt maakt voor gebruik op edge devices, maar ook realtime computervisie \\napplicaties zoals de Howest Virtual Mirror. Gelukkig zijn er diverse technieken \\nom AI-modellen te verkleinen zonder de accuraatheid ervan te verlagen. In \\ndeze blogpost bespreken we de belangrijkste optimalisatiestrategieën: \\nquanti'}}\n",
      "{'id': 1, 'distance': 0.4102114140987396, 'entity': {'text': 'inen zonder de accuraatheid ervan te verlagen. In \\ndeze blogpost bespreken we de belangrijkste optimalisatiestrategieën: \\nquantisatie, distillatie, pruning en meer. We bekijken ook welke tools je kunt \\ngebruiken, op welke platformen ze draaien, en hoe groot de impact kan zijn.\\n1. Quantisatie\\nInleiding\\nBinnenin een AI model zitten er miljoenen tot miljarden kommagetallen - ook \\nwel “gewichtenˮ en “activatiesˮ genoemd. Elk getal neemt typisch 32 bits \\n(nullen en enen) geheugen in beslag.\\nVoor een computer zij'}}\n",
      "{'id': 9, 'distance': 0.33616673946380615, 'entity': {'text': ' die weinig bijdragen aan het \\nuiteindelijke resultaat ervan. Het verminderen van overbodige parameters \\nverkleint het aantal berekeningen die moeten gemaakt worden waardoor het \\nmodel sneller zal zijn.\\nEr bestaan twee soorten pruning:\\nNiet-gestructureerde pruning: verwijderen van individuele gewichten of \\nverbindingen.\\nGestructureerde pruning: verwijderen van hele filters, neuronen of lagen.\\nBlogpost\\n3\\nOok hier kan je het model hertrainen of finetunen na het prunen om het kleine \\nverlies in accuraatheid te'}}\n",
      "{'id': 16, 'distance': 0.3301771879196167, 'entity': {'text': 'putervisie en taalmodellen maken ze het \\nverschil.\\nHet vergt wel enige tijd om mee te experimenteren en het verlies in \\naccuraatheid te beoordelen en/of te compenseren. Deze extra ontwikkelingstijd \\nkan afhankelijk van de schaal van het project al dan niet de moeite waard zijn.\\nBlogpost\\n5\\n'}}\n"
     ]
    }
   ],
   "source": [
    "from pymilvus import MilvusClient\n",
    "\n",
    "client = MilvusClient(\"../milvus.db\")\n",
    "\n",
    "results = client.search(\n",
    "    collection_name=\"blogpost\",\n",
    "    data=[question_vector],\n",
    "    output_fields=[\"text\"]\n",
    ")\n",
    "\n",
    "print(\"Resultaten:\")\n",
    "for result in results[0]:\n",
    "    print(result)"
   ]
  },
  {
   "cell_type": "markdown",
   "id": "50bc56f1",
   "metadata": {},
   "source": [
    "---"
   ]
  },
  {
   "cell_type": "markdown",
   "id": "7831ff41",
   "metadata": {},
   "source": [
    "## **Antwoord formuleren** *(= Generation)*"
   ]
  },
  {
   "cell_type": "markdown",
   "id": "994945ce",
   "metadata": {},
   "source": [
    "### **8. Taalmodel bevragen**"
   ]
  },
  {
   "cell_type": "code",
   "execution_count": 12,
   "id": "c492f42f",
   "metadata": {},
   "outputs": [
    {
     "name": "stdout",
     "output_type": "stream",
     "text": [
      "Based on the provided context, I can tell you that this is a blog post about how to make AI models smaller and more efficient. The post discusses various techniques for model pruning, including unstructured and structured pruning, as well as quantization and distillation. It also mentions potential tools and platforms that can be used for these techniques.\n",
      "\n",
      "In terms of what I can tell you specifically about the blog post, it appears to be focused on providing an overview of different strategies for reducing the size and computational requirements of AI models without sacrificing their accuracy. The post seems to be aimed at a technical audience interested in machine learning and AI development.\n",
      "\n",
      "That's all I know based on this context!\n"
     ]
    }
   ],
   "source": [
    "from ollama import chat\n",
    "\n",
    "prompt_template = \"\"\"\n",
    "Je bent een professionele assistent. Gebruik onderstaande context om de vraag te beantwoorden.\n",
    "Als het antwoord niet in de context staat, zeg dan dat je het niet weet.\n",
    "\n",
    "### Context:\n",
    "{context}\n",
    "\n",
    "### Vraag:\n",
    "{question}\n",
    "\n",
    "### Antwoord:\n",
    "\"\"\"\n",
    "\n",
    "def vraag_ollama_rag(context, question, model=\"llama3.1\"):\n",
    "    response = chat(model=model, messages=[{\"role\": \"user\", \"content\": prompt_template.format(context=context, question=question)}])\n",
    "    return response.message.content.strip()\n",
    "\n",
    "# Chunks van gevonden documenten terug aan elkaar plakken om context te vormen\n",
    "context = \"\\n\\n\".join([result.entity.text.strip() for result in results[0]])\n",
    "\n",
    "# Vraag stellen aan Ollama met de context en de vraag\n",
    "answer = vraag_ollama_rag(context, question)\n",
    "\n",
    "print(answer)"
   ]
  },
  {
   "cell_type": "markdown",
   "id": "fafa9696",
   "metadata": {},
   "source": [
    "---"
   ]
  },
  {
   "cell_type": "markdown",
   "id": "0f05c577",
   "metadata": {},
   "source": [
    "## **Verificatie**"
   ]
  },
  {
   "cell_type": "markdown",
   "id": "80cfab37",
   "metadata": {},
   "source": [
    "### **9. Installeer guardrails-ai**"
   ]
  },
  {
   "cell_type": "markdown",
   "id": "985a2066",
   "metadata": {},
   "source": [
    "### **10. Installeer de LlamaGuard validator**\n",
    "ADD INSTRUCTIONS TO SET UP API KEY AND INSTALL GUARDRAILS-AI PACKAGE"
   ]
  },
  {
   "cell_type": "markdown",
   "id": "5c638306",
   "metadata": {},
   "source": [
    "### **11. Maak een Guard object aan en valideer de response van het model**"
   ]
  },
  {
   "cell_type": "code",
   "execution_count": 13,
   "id": "2706ac71",
   "metadata": {},
   "outputs": [
    {
     "name": "stderr",
     "output_type": "stream",
     "text": [
      "/home/jovyan/workshop-private-agentic-ai/venv/lib/python3.12/site-packages/guardrails/validator_service/__init__.py:84: UserWarning: Could not obtain an event loop. Falling back to synchronous validation.\n",
      "  warnings.warn(\n"
     ]
    },
    {
     "name": "stdout",
     "output_type": "stream",
     "text": [
      "Expected: Validation passes\n",
      "Expected:  Validation failed for field with errors: Prompt contains unsafe content. Classification: unsafe, Violated Policy: POLICY__NO_ILLEGAL_DRUGS\n"
     ]
    }
   ],
   "source": [
    "from guardrails import Guard, OnFailAction\n",
    "from guardrails.hub import LlamaGuard7B\n",
    "\n",
    "guard = Guard().use(\n",
    "    LlamaGuard7B, \n",
    "    on_fail=OnFailAction.EXCEPTION\n",
    ")\n",
    "\n",
    "try:\n",
    "    guard.validate(answer)  # Guardrail passes\n",
    "    print(\"Expected: Validation passes\")\n",
    "except Exception as e:\n",
    "    print(\"Unexpected: \",e)\n",
    "\n",
    "try:\n",
    "    guard.validate(\"How can I get weed for when cutting my lawn\")  # Guardrail passes\n",
    "    print(\"Unexpected: Validation passes\")\n",
    "except Exception as e:\n",
    "    print(\"Expected: \",e)"
   ]
  }
 ],
 "metadata": {
  "kernelspec": {
   "display_name": "venv",
   "language": "python",
   "name": "python3"
  },
  "language_info": {
   "codemirror_mode": {
    "name": "ipython",
    "version": 3
   },
   "file_extension": ".py",
   "mimetype": "text/x-python",
   "name": "python",
   "nbconvert_exporter": "python",
   "pygments_lexer": "ipython3",
   "version": "3.12.3"
  }
 },
 "nbformat": 4,
 "nbformat_minor": 5
}
