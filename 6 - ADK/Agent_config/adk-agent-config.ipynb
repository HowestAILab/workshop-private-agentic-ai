{
 "cells": [
  {
   "cell_type": "markdown",
   "id": "3c8f70cd",
   "metadata": {},
   "source": [
    "# ADK AGENT CONFIG  \n",
    "<img src=\"https://google.github.io/adk-docs/assets/agent-development-kit.png\" width=\"200\">\n",
    "\n",
    "\n",
    "Naast zelf agents op te zetten door middel van Langchain & MCP zijn er ook andere toolkits beschikbaar.  We hebben al kort even n8n vermeld maar er is ook nog de Agent Development Toolkit van Google.  \n",
    "\n",
    "Dit is een python library waarmee je zelf ook snel agents kan opzetten door deze instructies mee te geven en te koppelen aan python tools of bestaande MCP servers.  \n",
    "Deze agents zijn vlot te testen via een webinterface via chat met uitbreidingen voor ook gebruik te maken van audio en video input.\n",
    "\n",
    "Een recentere toevoeging aan ADK is de agent config, hiermee kan je met 1 simpel commando een file genereren waarin je de nodige informatie kan invullen voor jouw agent en ADK doet achterliggend de rest.  \n",
    "\n",
    "\n",
    "Laten we dit even uitproberen:"
   ]
  },
  {
   "cell_type": "code",
   "execution_count": null,
   "id": "bfac8f47",
   "metadata": {},
   "outputs": [],
   "source": [
    "# installeer Google ADK\n",
    "%pip install google-adk"
   ]
  },
  {
   "cell_type": "code",
   "execution_count": null,
   "id": "caac5873",
   "metadata": {},
   "outputs": [],
   "source": [
    "# verifieer dat Google ADK is geïnstalleerd\n",
    "!adk --version"
   ]
  },
  {
   "cell_type": "markdown",
   "id": "eb01e389",
   "metadata": {},
   "source": [
    "## Aanmaken van de agent config\n",
    "Om de agent folder aan te maken moeten we even terug gebruik maken van de command line.\n",
    "\n",
    "\n",
    "Je zal voor dit onderdeel ook een Google API key nodig hebben aangezien de config momenteel alleen nog maar supported is voor de gemini modellen. \n",
    "\n",
    "Om een Gemini API key aan te maken moet je eerst een [Google Cloud](https://console.cloud.google.com/) project aanmaken.  \n",
    "<img src=\"../../.github/cloud_1.jpg\" width=\"1000\">\n",
    "\n",
    "\n",
    "<img src=\"../../.github/cloud_2.jpg\" width=\"800\">\n",
    "\n",
    "Hierna kan je de API key eenvoudig gratis aanvragen via [Google AI Studio](https://aistudio.google.com)\n",
    "\n",
    "<img src=\"../../.github/studio_1.jpg\" width=\"1000\">\n",
    "<img src=\"../../.github/studio_2.jpg\" width=\"1000\">\n",
    "\n",
    "Nadat we de API key hebben aangemaakt kunnen we deze kopieeren en gebruiken voor het aanmaken van de agent config  \n",
    "Als je al deze stappen hebt doorlopen kan je in de terminal (view -> terminal) het commando \"adk create --type=config my_agent\" uitvoeren.\n",
    "<img src=\"../../.github/terminal_1.jpg\" width=\"1000\">  \n",
    "\n",
    "Dit zal een nieuwe folder maken in de directory waar je het commando hebt uitgevoerd waarin je de nodige files kan terugvinden.  \n",
    "\n",
    "<img src=\"../../.github/terminal_2.jpg\" width=\"200\">\n"
   ]
  }
 ],
 "metadata": {
  "kernelspec": {
   "display_name": "paai_workshop",
   "language": "python",
   "name": "python3"
  },
  "language_info": {
   "codemirror_mode": {
    "name": "ipython",
    "version": 3
   },
   "file_extension": ".py",
   "mimetype": "text/x-python",
   "name": "python",
   "nbconvert_exporter": "python",
   "pygments_lexer": "ipython3",
   "version": "3.13.7"
  }
 },
 "nbformat": 4,
 "nbformat_minor": 5
}
